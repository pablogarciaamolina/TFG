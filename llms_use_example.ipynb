{
 "cells": [
  {
   "cell_type": "code",
   "execution_count": 1,
   "metadata": {},
   "outputs": [],
   "source": [
    "from src.data import CICIDS2017\n",
    "from src.data.utils import balanced_sample, encode_labels\n",
    "from sklearn.model_selection import train_test_split\n",
    "from src.models.API import Mistral, Gemini\n",
    "from src.pipelines import TAPipeline\n",
    "from src.pipelines.utils import plot_accuracies\n",
    "\n",
    "import logging\n",
    "logging.basicConfig(level=logging.INFO, format='%(asctime)s - %(levelname)s - %(message)s')"
   ]
  },
  {
   "cell_type": "code",
   "execution_count": 2,
   "metadata": {},
   "outputs": [
    {
     "name": "stderr",
     "output_type": "stream",
     "text": [
      "2025-03-11 19:47:30,333 - INFO - Loading dataset...\n"
     ]
    }
   ],
   "source": [
    "dataset = CICIDS2017(classes_mapping=False, pca=True)\n",
    "dataset.load()"
   ]
  },
  {
   "cell_type": "code",
   "execution_count": 3,
   "metadata": {},
   "outputs": [],
   "source": [
    "data = balanced_sample(dataset.data, category_col=\"Label\", n_per_class=20)\n",
    "icl_data, test_data = train_test_split(data, test_size=0.12)\n",
    "x_test = test_data.drop(columns=[\"Label\"])\n",
    "y_test = test_data[\"Label\"]"
   ]
  },
  {
   "cell_type": "code",
   "execution_count": 4,
   "metadata": {},
   "outputs": [
    {
     "name": "stderr",
     "output_type": "stream",
     "text": [
      "2025-03-11 19:47:46,900 - INFO - AFC is enabled with max remote calls: 10.\n",
      "2025-03-11 19:47:50,234 - INFO - AFC remote call 1 is done.\n"
     ]
    },
    {
     "data": {
      "text/plain": [
       "{'answer': ['Hey there! 👋 How can I help you today?',\n",
       "  \"Hey there! 👋  What's going on?\",\n",
       "  'Hey there!  👋 How can I help you today?'],\n",
       " 'finish_reason': ['STOP', 'STOP', 'STOP']}"
      ]
     },
     "execution_count": 4,
     "metadata": {},
     "output_type": "execute_result"
    }
   ],
   "source": [
    "chat = Gemini(model=\"gemini-2.0-flash-thinking-exp-01-21\")\n",
    "# chat = Mistral(model=\"open-mistral-nemo\")\n",
    "chat.ask(\"hey\", candidate_count=3)"
   ]
  },
  {
   "cell_type": "code",
   "execution_count": null,
   "metadata": {},
   "outputs": [
    {
     "name": "stderr",
     "output_type": "stream",
     "text": [
      "2025-03-11 19:47:55,846 - INFO - Starting predictions...asking the model...\n",
      "2025-03-11 19:47:55,848 - INFO - Prediction nº1...\n",
      "2025-03-11 19:47:55,849 - INFO - AFC is enabled with max remote calls: 10.\n"
     ]
    },
    {
     "name": "stderr",
     "output_type": "stream",
     "text": [
      "2025-03-11 19:48:05,906 - INFO - AFC remote call 1 is done.\n",
      "2025-03-11 19:48:05,906 - INFO - Response: ['DoS slowloris', 'DoS slowloris', 'DoS slowloris', 'DoS slowloris', 'DoS slowloris']\n",
      "2025-03-11 19:48:05,907 - INFO - Prediction nº2...\n",
      "2025-03-11 19:48:05,908 - INFO - AFC is enabled with max remote calls: 10.\n",
      "2025-03-11 19:51:42,460 - INFO - AFC remote call 1 is done.\n",
      "2025-03-11 19:51:42,460 - INFO - Response: ['SSH-Patator', 'SSH-Patator', 'SSH-Patator', 'SSH-Patator']\n",
      "2025-03-11 19:51:42,462 - INFO - Prediction nº3...\n",
      "2025-03-11 19:51:42,462 - INFO - AFC is enabled with max remote calls: 10.\n",
      "2025-03-11 19:52:02,299 - INFO - AFC remote call 1 is done.\n",
      "2025-03-11 19:52:02,300 - INFO - Response: ['PortScan', 'PortScan', 'PortScan', 'PortScan', 'PortScan']\n",
      "2025-03-11 19:52:02,300 - INFO - Prediction nº4...\n",
      "2025-03-11 19:52:02,301 - INFO - AFC is enabled with max remote calls: 10.\n",
      "2025-03-11 19:52:16,062 - INFO - AFC remote call 1 is done.\n",
      "2025-03-11 19:52:16,063 - INFO - Response: ['DoS Hulk', 'DoS GoldenEye', 'DoS GoldenEye', 'DoS GoldenEye', 'DoS GoldenEye']\n",
      "2025-03-11 19:52:16,063 - INFO - Prediction nº5...\n",
      "2025-03-11 19:52:16,064 - INFO - AFC is enabled with max remote calls: 10.\n",
      "2025-03-11 19:52:26,688 - INFO - AFC remote call 1 is done.\n",
      "2025-03-11 19:52:26,688 - INFO - Response: ['PortScan', 'PortScan', 'PortScan', 'PortScan', 'PortScan']\n",
      "2025-03-11 19:52:26,689 - INFO - Prediction nº6...\n",
      "2025-03-11 19:52:26,689 - INFO - AFC is enabled with max remote calls: 10.\n"
     ]
    }
   ],
   "source": [
    "chat_pl = TAPipeline(chat)\n",
    "chat_results = chat_pl.evaluate(\n",
    "    icl_data,\n",
    "    x_test,\n",
    "    y_test,\n",
    "    \"Behaving like a Intrusion Detection System, classifing the data based on the PC features in the possible classes of attacks or not attack (BENIGN)\",\n",
    "    \"Label\",\n",
    "    num_predictions=5,\n",
    "    other_info=dataset._get_id()\n",
    ")"
   ]
  },
  {
   "cell_type": "code",
   "execution_count": null,
   "metadata": {},
   "outputs": [],
   "source": [
    "chat_results = chat_pl.evaluate_given_predictions(\n",
    "    classifications,\n",
    "    y_test\n",
    ")\n",
    "chat_results[\"accuracy\"]"
   ]
  },
  {
   "cell_type": "code",
   "execution_count": 1,
   "metadata": {},
   "outputs": [
    {
     "ename": "NameError",
     "evalue": "name 'plot_accuracies' is not defined",
     "output_type": "error",
     "traceback": [
      "\u001b[1;31m---------------------------------------------------------------------------\u001b[0m",
      "\u001b[1;31mNameError\u001b[0m                                 Traceback (most recent call last)",
      "Cell \u001b[1;32mIn[1], line 1\u001b[0m\n\u001b[1;32m----> 1\u001b[0m accuracy_plot \u001b[38;5;241m=\u001b[39m \u001b[43mplot_accuracies\u001b[49m([chat_results[\u001b[38;5;124m\"\u001b[39m\u001b[38;5;124maccuracy\u001b[39m\u001b[38;5;124m\"\u001b[39m]], [chat\u001b[38;5;241m.\u001b[39mname \u001b[38;5;241m+\u001b[39m \u001b[38;5;124m\"\u001b[39m\u001b[38;5;124m - \u001b[39m\u001b[38;5;124m\"\u001b[39m \u001b[38;5;241m+\u001b[39m \u001b[38;5;124m\"\u001b[39m\u001b[38;5;124mmajority voting with 5 predictions\u001b[39m\u001b[38;5;124m\"\u001b[39m])\n\u001b[0;32m      2\u001b[0m \u001b[38;5;66;03m# accuracy_plot = plot_accuracies([chat_results[\"accuracy\"]], [chat.name])\u001b[39;00m\n",
      "\u001b[1;31mNameError\u001b[0m: name 'plot_accuracies' is not defined"
     ]
    }
   ],
   "source": [
    "accuracy_plot = plot_accuracies([chat_results[\"accuracy\"]], [chat.name + \" - \" + \"majority voting with 5 predictions\"])\n",
    "# accuracy_plot = plot_accuracies([chat_results[\"accuracy\"]], [chat.name])"
   ]
  }
 ],
 "metadata": {
  "kernelspec": {
   "display_name": "Python 3",
   "language": "python",
   "name": "python3"
  },
  "language_info": {
   "codemirror_mode": {
    "name": "ipython",
    "version": 3
   },
   "file_extension": ".py",
   "mimetype": "text/x-python",
   "name": "python",
   "nbconvert_exporter": "python",
   "pygments_lexer": "ipython3",
   "version": "3.12.8"
  }
 },
 "nbformat": 4,
 "nbformat_minor": 2
}
