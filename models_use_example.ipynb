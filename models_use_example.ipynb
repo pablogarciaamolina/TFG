{
 "cells": [
  {
   "cell_type": "code",
   "execution_count": null,
   "metadata": {},
   "outputs": [
    {
     "name": "stderr",
     "output_type": "stream",
     "text": [
      "c:\\Users\\pablo\\AppData\\Local\\Programs\\Python\\Python312\\Lib\\site-packages\\tqdm\\auto.py:21: TqdmWarning: IProgress not found. Please update jupyter and ipywidgets. See https://ipywidgets.readthedocs.io/en/stable/user_install.html\n",
      "  from .autonotebook import tqdm as notebook_tqdm\n"
     ]
    }
   ],
   "source": [
    "from src.data import CICIDS2017, N_BaIoT, CIC_UNSW, balanced_sample, TabPFNDataGenerator\n",
    "from src.models import TabNetModel, TabPFNModel, TabICLModel\n",
    "from src.models import PreConfigured_LogisticRegression, PreConfigured_RandomForest, PreConfigured_LinearSVC, PreConfigured_DecisionTree, PreConfigured_KNeighbors\n",
    "from src.pipelines import TTPipeline, plot_accuracies"
   ]
  },
  {
   "cell_type": "code",
   "execution_count": 2,
   "metadata": {},
   "outputs": [],
   "source": [
    "import logging\n",
    "\n",
    "for handler in logging.root.handlers[:]:\n",
    "    logging.root.removeHandler(handler)\n",
    "\n",
    "logging.basicConfig(level=logging.INFO, format='%(levelname)s: %(message)s')"
   ]
  },
  {
   "cell_type": "markdown",
   "metadata": {},
   "source": [
    "### Data"
   ]
  },
  {
   "cell_type": "code",
   "execution_count": null,
   "metadata": {},
   "outputs": [
    {
     "name": "stderr",
     "output_type": "stream",
     "text": [
      "INFO: Loading dataset...\n"
     ]
    }
   ],
   "source": [
    "dataset = CICIDS2017(pca=True, classes_mapping=True)\n",
    "# dataset = N_BaIoT(pca=True, classes_mapping=False)\n",
    "# dataset = CIC_UNSW(pca=False)\n",
    "dataset.load()\n",
    "# dataset.balance_(n=2000, category_col=\"Label\")\n",
    "train, test = dataset.train_test_split(test_size=0.3)\n",
    "X_train = train.drop(columns=[\"Label\"]).values\n",
    "y_train = train[\"Label\"].values\n",
    "X_test = test.drop(columns=[\"Label\"]).values\n",
    "y_test = test[\"Label\"].values"
   ]
  },
  {
   "cell_type": "code",
   "execution_count": 5,
   "metadata": {},
   "outputs": [
    {
     "data": {
      "text/plain": [
       "Label\n",
       "DoS             146\n",
       "Bot             145\n",
       "Brute Force     142\n",
       "Web Attack      139\n",
       "DDoS            137\n",
       "BENIGN          136\n",
       "Port Scan       135\n",
       "Infiltration     27\n",
       "Heartbleed        5\n",
       "Name: count, dtype: int64"
      ]
     },
     "execution_count": 5,
     "metadata": {},
     "output_type": "execute_result"
    }
   ],
   "source": [
    "train[\"Label\"].value_counts()"
   ]
  },
  {
   "cell_type": "code",
   "execution_count": 6,
   "metadata": {},
   "outputs": [
    {
     "data": {
      "text/plain": [
       "Label\n",
       "Port Scan       65\n",
       "BENIGN          64\n",
       "DDoS            63\n",
       "Web Attack      61\n",
       "Brute Force     58\n",
       "Bot             55\n",
       "DoS             54\n",
       "Infiltration     9\n",
       "Heartbleed       6\n",
       "Name: count, dtype: int64"
      ]
     },
     "execution_count": 6,
     "metadata": {},
     "output_type": "execute_result"
    }
   ],
   "source": [
    "test[\"Label\"].value_counts()"
   ]
  },
  {
   "cell_type": "markdown",
   "metadata": {},
   "source": [
    "### Models"
   ]
  },
  {
   "cell_type": "markdown",
   "metadata": {},
   "source": [
    "#### Preparing"
   ]
  },
  {
   "cell_type": "code",
   "execution_count": 7,
   "metadata": {},
   "outputs": [
    {
     "name": "stderr",
     "output_type": "stream",
     "text": [
      "c:\\Users\\pablo\\AppData\\Local\\Programs\\Python\\Python312\\Lib\\site-packages\\pytorch_tabnet\\abstract_model.py:82: UserWarning: Device used : cuda\n",
      "  warnings.warn(f\"Device used : {self.device}\")\n"
     ]
    }
   ],
   "source": [
    "logreg = PreConfigured_LogisticRegression()\n",
    "svc = PreConfigured_LinearSVC()\n",
    "randomforest = PreConfigured_RandomForest()\n",
    "kneighbors = PreConfigured_KNeighbors()\n",
    "decision_tree = PreConfigured_DecisionTree()\n",
    "tabnet = TabNetModel(pretrain=True)\n",
    "tabpfn = TabPFNModel()\n",
    "tabicl = TabICLModel()"
   ]
  },
  {
   "cell_type": "markdown",
   "metadata": {},
   "source": [
    "#### Training"
   ]
  },
  {
   "cell_type": "markdown",
   "metadata": {},
   "source": [
    "##### Logistic Regression"
   ]
  },
  {
   "cell_type": "code",
   "execution_count": null,
   "metadata": {},
   "outputs": [],
   "source": [
    "logreg_pl = TTPipeline(logreg)\n",
    "logreg_pl.train(X_train, y_train, cv=5)\n",
    "logreg_results = logreg_pl.evaluate(X_test, y_test)\n",
    "logreg.save()"
   ]
  },
  {
   "cell_type": "code",
   "execution_count": null,
   "metadata": {},
   "outputs": [],
   "source": [
    "print(\"Precision:\", logreg_results[\"precision\"])\n",
    "print(\"Recall:\", logreg_results[\"recall\"])\n",
    "print(\"F1-Score:\", logreg_results[\"f1_score\"])"
   ]
  },
  {
   "cell_type": "markdown",
   "metadata": {},
   "source": [
    "##### Support Vector Machine"
   ]
  },
  {
   "cell_type": "code",
   "execution_count": null,
   "metadata": {},
   "outputs": [],
   "source": [
    "svc_pl = TTPipeline(svc)\n",
    "svc_pl.train(X_train, y_train, cv=5)\n",
    "svc_results = svc_pl.evaluate(X_test, y_test)\n",
    "svc.save()"
   ]
  },
  {
   "cell_type": "code",
   "execution_count": null,
   "metadata": {},
   "outputs": [],
   "source": [
    "print(\"Precision:\", svc_results[\"precision\"])\n",
    "print(\"Recall:\", svc_results[\"recall\"])\n",
    "print(\"F1-Score:\", svc_results[\"f1_score\"])"
   ]
  },
  {
   "cell_type": "markdown",
   "metadata": {},
   "source": [
    "##### Random Forest"
   ]
  },
  {
   "cell_type": "code",
   "execution_count": null,
   "metadata": {},
   "outputs": [],
   "source": [
    "randomforest_pl = TTPipeline(randomforest)\n",
    "randomforest_pl.train(X_train, y_train, cv=5)\n",
    "randomforest_results = randomforest_pl.evaluate(X_test, y_test)\n",
    "randomforest.save()"
   ]
  },
  {
   "cell_type": "code",
   "execution_count": null,
   "metadata": {},
   "outputs": [],
   "source": [
    "print(\"Precision:\", randomforest_results[\"precision\"])\n",
    "print(\"Recall:\", randomforest_results[\"recall\"])\n",
    "print(\"F1-Score:\", randomforest_results[\"f1_score\"])"
   ]
  },
  {
   "cell_type": "markdown",
   "metadata": {},
   "source": [
    "##### K-Neighbors"
   ]
  },
  {
   "cell_type": "code",
   "execution_count": null,
   "metadata": {},
   "outputs": [],
   "source": [
    "kneighbors_pl = TTPipeline(kneighbors)\n",
    "kneighbors_pl.train(X_train, y_train, cv=5)\n",
    "kneighbors_results = kneighbors_pl.evaluate(X_test, y_test)\n",
    "kneighbors.save()"
   ]
  },
  {
   "cell_type": "code",
   "execution_count": null,
   "metadata": {},
   "outputs": [],
   "source": [
    "print(\"Precision:\", kneighbors_results[\"precision\"])\n",
    "print(\"Recall:\", kneighbors_results[\"recall\"])\n",
    "print(\"F1-Score:\", kneighbors_results[\"f1_score\"])"
   ]
  },
  {
   "cell_type": "markdown",
   "metadata": {},
   "source": [
    "##### Decision Tree"
   ]
  },
  {
   "cell_type": "code",
   "execution_count": null,
   "metadata": {},
   "outputs": [],
   "source": [
    "decision_tree_pl = TTPipeline(decision_tree)\n",
    "decision_tree_pl.train(X_train, y_train, cv=5)\n",
    "decision_tree_results = decision_tree_pl.evaluate(X_test, y_test)\n",
    "decision_tree.save()"
   ]
  },
  {
   "cell_type": "code",
   "execution_count": null,
   "metadata": {},
   "outputs": [],
   "source": [
    "print(\"Precision:\", decision_tree_results[\"precision\"])\n",
    "print(\"Recall:\", decision_tree_results[\"recall\"])\n",
    "print(\"F1-Score:\", decision_tree_results[\"f1_score\"])"
   ]
  },
  {
   "cell_type": "markdown",
   "metadata": {},
   "source": [
    "##### TabNet"
   ]
  },
  {
   "cell_type": "code",
   "execution_count": null,
   "metadata": {},
   "outputs": [],
   "source": [
    "tabnet_pl = TTPipeline(tabnet)\n",
    "tabnet_pl.train(X_train, y_train, X_test, y_test, smote_augmentation=False)\n",
    "tabnet_results = tabnet_pl.evaluate(X_test, y_test)\n",
    "tabnet.save()"
   ]
  },
  {
   "cell_type": "code",
   "execution_count": null,
   "metadata": {},
   "outputs": [],
   "source": [
    "print(\"Accuracy:\", tabnet_results[\"accuracy\"])\n",
    "print(\"Precision:\", tabnet_results[\"precision\"])\n",
    "print(\"Recall:\", tabnet_results[\"recall\"])\n",
    "print(\"F1-Score:\", tabnet_results[\"f1_score\"])"
   ]
  },
  {
   "cell_type": "code",
   "execution_count": null,
   "metadata": {},
   "outputs": [],
   "source": [
    "tabnet.plot_metrics()"
   ]
  },
  {
   "cell_type": "markdown",
   "metadata": {},
   "source": [
    "##### TabPFN"
   ]
  },
  {
   "cell_type": "code",
   "execution_count": null,
   "metadata": {},
   "outputs": [],
   "source": [
    "# Balance training samples\n",
    "smaller_train = balanced_sample(train, \"Label\", 2000)\n",
    "new_x = smaller_train.drop(columns=[\"Label\"]).values\n",
    "new_y = smaller_train[\"Label\"].values"
   ]
  },
  {
   "cell_type": "code",
   "execution_count": null,
   "metadata": {},
   "outputs": [],
   "source": [
    "# Augment samples\n",
    "generator = TabPFNDataGenerator()\n",
    "augmented_new_x, augmented_new_y = generator.generate(100, new_x, new_y, threshold=0.25)"
   ]
  },
  {
   "cell_type": "code",
   "execution_count": null,
   "metadata": {},
   "outputs": [],
   "source": [
    "smaller_train[\"Label\"].value_counts()"
   ]
  },
  {
   "cell_type": "code",
   "execution_count": null,
   "metadata": {},
   "outputs": [],
   "source": [
    "tabpfn_pl = TTPipeline(tabpfn)\n",
    "tabpfn_pl.train(new_x, new_y)"
   ]
  },
  {
   "cell_type": "code",
   "execution_count": null,
   "metadata": {},
   "outputs": [],
   "source": [
    "tabpfn_results = tabpfn_pl.evaluate(X_test, y_test)\n",
    "tabpfn.save()"
   ]
  },
  {
   "cell_type": "code",
   "execution_count": null,
   "metadata": {},
   "outputs": [],
   "source": [
    "print(\"Accuracy:\", tabpfn_results[\"accuracy\"])\n",
    "print(\"Precision:\", tabpfn_results[\"precision\"])\n",
    "print(\"Recall:\", tabpfn_results[\"recall\"])\n",
    "print(\"F1-Score:\", tabpfn_results[\"f1_score\"])"
   ]
  },
  {
   "cell_type": "markdown",
   "metadata": {},
   "source": [
    "##### TabICL"
   ]
  },
  {
   "cell_type": "code",
   "execution_count": null,
   "metadata": {},
   "outputs": [],
   "source": [
    "smaller_train = balanced_sample(train, \"Label\", 2000)\n",
    "new_x = smaller_train.drop(columns=[\"Label\"]).values\n",
    "new_y = smaller_train[\"Label\"].values"
   ]
  },
  {
   "cell_type": "code",
   "execution_count": null,
   "metadata": {},
   "outputs": [
    {
     "name": "stderr",
     "output_type": "stream",
     "text": [
      "INFO: Fitting TabICL model...\n"
     ]
    }
   ],
   "source": [
    "tabicl_pl = TTPipeline(tabicl)\n",
    "tabicl_pl.train(new_x, new_y)"
   ]
  },
  {
   "cell_type": "code",
   "execution_count": null,
   "metadata": {},
   "outputs": [],
   "source": [
    "tabicl_results = tabicl_pl.evaluate(X_test, y_test)\n",
    "tabicl.save()"
   ]
  },
  {
   "cell_type": "code",
   "execution_count": null,
   "metadata": {},
   "outputs": [],
   "source": [
    "print(\"Accuracy:\", tabicl_results[\"accuracy\"])\n",
    "print(\"Precision:\", tabicl_results[\"precision\"])\n",
    "print(\"Recall:\", tabicl_results[\"recall\"])\n",
    "print(\"F1-Score:\", tabicl_results[\"f1_score\"])"
   ]
  },
  {
   "cell_type": "markdown",
   "metadata": {},
   "source": [
    "#### From loaded"
   ]
  },
  {
   "cell_type": "code",
   "execution_count": null,
   "metadata": {},
   "outputs": [],
   "source": [
    "logreg.name = \"...\"\n",
    "logreg.load()\n",
    "logreg_pl = TTPipeline(logreg)\n",
    "logreg_results = logreg_pl.evaluate(X_test, y_test)"
   ]
  },
  {
   "cell_type": "code",
   "execution_count": null,
   "metadata": {},
   "outputs": [],
   "source": [
    "svc.load()\n",
    "svc_pl = TTPipeline(svc)\n",
    "svc_results = svc_pl.evaluate(X_test, y_test)\n",
    "svc_results[\"accuracy\"]"
   ]
  },
  {
   "cell_type": "code",
   "execution_count": null,
   "metadata": {},
   "outputs": [],
   "source": [
    "randomforest.load()\n",
    "randomforest_pl = TTPipeline(randomforest)\n",
    "randomforest_results = randomforest_pl.evaluate(X_test, y_test)\n",
    "randomforest_results[\"accuracy\"]"
   ]
  },
  {
   "cell_type": "code",
   "execution_count": null,
   "metadata": {},
   "outputs": [],
   "source": [
    "kneighbors.name = \"...\"\n",
    "kneighbors.load()\n",
    "kneighbors_pl = TTPipeline(kneighbors)\n",
    "kneighbors_results = kneighbors_pl.evaluate(X_test, y_test)"
   ]
  },
  {
   "cell_type": "code",
   "execution_count": null,
   "metadata": {},
   "outputs": [],
   "source": [
    "decision_tree.name = \"...\"\n",
    "decision_tree.load()\n",
    "decision_tree_pl = TTPipeline(decision_tree)\n",
    "decision_tree_results = decision_tree_pl.evaluate(X_test, y_test)"
   ]
  },
  {
   "cell_type": "code",
   "execution_count": null,
   "metadata": {},
   "outputs": [],
   "source": [
    "tabnet.name = \"...\"\n",
    "tabnet.load()\n",
    "tabnet_pl = TTPipeline(tabnet)\n",
    "tabnet_results = tabnet_pl.evaluate(X_test, y_test)"
   ]
  },
  {
   "cell_type": "code",
   "execution_count": null,
   "metadata": {},
   "outputs": [],
   "source": [
    "tabpfn.load()\n",
    "tabpfn_pl = TTPipeline(tabpfn)\n",
    "tabpfn_results = tabpfn_pl.evaluate(X_test, y_test)\n",
    "tabnet_results[\"accuracy\"]"
   ]
  },
  {
   "cell_type": "markdown",
   "metadata": {},
   "source": [
    "#### Performance"
   ]
  },
  {
   "cell_type": "code",
   "execution_count": null,
   "metadata": {},
   "outputs": [],
   "source": [
    "accuracies = [\n",
    "    # logreg_results[\"accuracy\"],\n",
    "    # svc_results[\"accuracy\"],\n",
    "    # randomforest_results[\"accuracy\"],\n",
    "    # kneighbors_results[\"accuracy\"],\n",
    "    # decision_tree_results[\"accuracy\"],\n",
    "    # tabnet_results[\"accuracy\"],\n",
    "    # tabpfn_results[\"accuracy\"]\n",
    "]\n",
    "\n",
    "models_names = [\n",
    "    # 'Logistic Regression',\n",
    "    # 'SVM',\n",
    "    # \"Random Forest\",\n",
    "    # \"KNeighbors\",\n",
    "    # \"Decision Tree\",\n",
    "    # \"TabNet\",\n",
    "    # \"TabPFN\"\n",
    "]"
   ]
  },
  {
   "cell_type": "code",
   "execution_count": null,
   "metadata": {},
   "outputs": [],
   "source": [
    "accuracy_plot = plot_accuracies(accuracies, models_names)"
   ]
  }
 ],
 "metadata": {
  "kernelspec": {
   "display_name": "Python 3",
   "language": "python",
   "name": "python3"
  },
  "language_info": {
   "codemirror_mode": {
    "name": "ipython",
    "version": 3
   },
   "file_extension": ".py",
   "mimetype": "text/x-python",
   "name": "python",
   "nbconvert_exporter": "python",
   "pygments_lexer": "ipython3",
   "version": "3.12.8"
  }
 },
 "nbformat": 4,
 "nbformat_minor": 2
}
